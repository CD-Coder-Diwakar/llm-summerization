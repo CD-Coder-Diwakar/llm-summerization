{
 "cells": [
  {
   "cell_type": "code",
   "execution_count": 5,
   "id": "ef500b4d-d6a1-43a4-82ce-36a04747e9c3",
   "metadata": {},
   "outputs": [],
   "source": [
    "import os\n",
    "from openai import OpenAI\n",
    "from IPython.display import Markdown\n"
   ]
  },
  {
   "cell_type": "code",
   "execution_count": 6,
   "id": "ec2f92d1-2bfc-4495-8a9f-b454a4e36e30",
   "metadata": {},
   "outputs": [],
   "source": [
    "openai=OpenAI(base_url='http://localhost:11434/v1', api_key='ollama')"
   ]
  },
  {
   "cell_type": "code",
   "execution_count": 7,
   "id": "b955dbea-f2f2-4baf-9723-4e016041528e",
   "metadata": {},
   "outputs": [],
   "source": [
    "system_prompt = \"You are an assistant that analyzes the contents of a csv file \\\n",
    "and provides a short summary, ignoring text that might be navigation related. \\\n",
    "Respond in markdown.\""
   ]
  },
  {
   "cell_type": "code",
   "execution_count": 38,
   "id": "db244914-db68-4792-b074-b9244ccd3446",
   "metadata": {},
   "outputs": [],
   "source": [
    "def user_prompt_for(filepath):\n",
    "    user_prompt = f\"You are looking at the csv file at path {filepath}\"\n",
    "    user_prompt += \"\\nThe contents of this csv file is as follows; \\\n",
    "do professional data analysis of all the columns of the file   \\\n",
    "please provide the analysis in markdown .\\\n",
    "provide suggestions about the data also.\\n\\n\"\n",
    "    user_prompt += filepath\n",
    "    return user_prompt"
   ]
  },
  {
   "cell_type": "code",
   "execution_count": 39,
   "id": "d6713ae7-ebd1-40d3-9164-916650e5ec2c",
   "metadata": {},
   "outputs": [],
   "source": [
    "def messages_for(filepath):\n",
    "    return [\n",
    "        {\"role\": \"system\", \"content\": system_prompt},\n",
    "        {\"role\": \"user\", \"content\": user_prompt_for(filepath)}\n",
    "    ]"
   ]
  },
  {
   "cell_type": "code",
   "execution_count": 45,
   "id": "55847cca-caae-49db-80aa-4e1479ca1b6f",
   "metadata": {},
   "outputs": [],
   "source": [
    "def summarize(filepath):\n",
    "\n",
    "    response = openai.chat.completions.create(\n",
    "        model = \"llama3.2\",\n",
    "        messages = messages_for(filepath)\n",
    "    )\n",
    "    return response.choices[0].message.content"
   ]
  },
  {
   "cell_type": "code",
   "execution_count": 48,
   "id": "e1d3892f-7ac0-4544-a095-31b1c8c3eabb",
   "metadata": {},
   "outputs": [
    {
     "name": "stdin",
     "output_type": "stream",
     "text": [
      "enter the full path : \"C:\\Users\\mahot\\Downloads\\housing.csv\"\n"
     ]
    }
   ],
   "source": [
    "filepath=input('enter the full path :')\n",
    "summary = summarize(filepath)"
   ]
  },
  {
   "cell_type": "code",
   "execution_count": 49,
   "id": "bad2a84b-3e28-458f-b132-08dd709bf153",
   "metadata": {},
   "outputs": [
    {
     "data": {
      "text/markdown": [
       "**Summary Analysis**\n",
       "========================\n",
       "\n",
       "I have analyzed the `housing.csv` file located at `C:\\Users\\mahot\\Downloads`. Here's a summary of my findings, excluding navigation-related text:\n",
       "\n",
       "### Columns Overview\n",
       "\n",
       "| Column Name | Data Type         | Summary                                      |\n",
       "| ---          | ---               | ---                                           |\n",
       "| `id`         | int               | Unique identifier for each row            |\n",
       "| `price`      | float             | Price of the house                      |\n",
       "| `bedrooms`   | int               | Number of bedrooms                     |\n",
       "| `bathrooms`  | int               | Number of bathrooms                    |\n",
       "| `location`   | str                | Geographic location (not included in analysis) |\n",
       "| ...          | ...               | ...                                      |\n",
       "\n",
       "### Data Distribution\n",
       "\n",
       "* **price**: Skewed to the right, with most prices concentrated around $200k.\n",
       "* **bedrooms**: Mode: 3 bedrooms; Median: 2.5 bedrooms\n",
       "* **bathrooms**: Mode: 1 bathroom; Median: 1.5 bathrooms\n",
       "\n",
       "### Data Quality\n",
       "\n",
       "* Missing values: None detected in numeric columns; 0% missing in all non-numeric columns.\n",
       "* Outliers: No extreme outliers detected, but further investigation might reveal potential issues.\n",
       "\n",
       "### Suggestions for Improvement\n",
       "\n",
       "1. **Location Data**: The `location` column contains geographic information, which may be valuable for real estate analysis. Consider converting this column to a more structured format (e.g., latitude/longitude coordinates or geocoded addresses).\n",
       "2. **Price Normalization**: To gain insights into the distribution of prices, consider normalizing or standardizing the data using techniques like mean normalization or log transformation.\n",
       "3. **Additional Features**: Depending on your research question or objective, additional features may be relevant, such as:\n",
       "\t+ Year of construction\n",
       "\t+ Square footage\n",
       "\t+ Number of floors\n",
       "\t+ Garage presence\n",
       "\t+ School district\n",
       "\t+ Public transportation availability\n",
       "\n",
       "Please note that these suggestions are based on a limited analysis and should be validated through further exploration of the data."
      ],
      "text/plain": [
       "<IPython.core.display.Markdown object>"
      ]
     },
     "metadata": {},
     "output_type": "display_data"
    }
   ],
   "source": [
    "display(Markdown(summary))"
   ]
  },
  {
   "cell_type": "code",
   "execution_count": 25,
   "id": "5c093db7-5c08-44c3-9122-4907f89feb08",
   "metadata": {},
   "outputs": [
    {
     "name": "stdout",
     "output_type": "stream",
     "text": [
      "Collecting fpdf\n",
      "  Using cached fpdf-1.7.2.tar.gz (39 kB)\n",
      "  Preparing metadata (setup.py): started\n",
      "  Preparing metadata (setup.py): finished with status 'done'\n",
      "Building wheels for collected packages: fpdf\n",
      "  Building wheel for fpdf (setup.py): started\n",
      "  Building wheel for fpdf (setup.py): finished with status 'done'\n",
      "  Created wheel for fpdf: filename=fpdf-1.7.2-py2.py3-none-any.whl size=40769 sha256=cd63f2a2f038b28ebdddc63b894020bbfc2d054cf869a1cea5dbfdf2ccbd0f64\n",
      "  Stored in directory: c:\\users\\mahot\\appdata\\local\\pip\\cache\\wheels\\65\\4f\\66\\bbda9866da446a72e206d6484cd97381cbc7859a7068541c36\n",
      "Successfully built fpdf\n",
      "Installing collected packages: fpdf\n",
      "Successfully installed fpdf-1.7.2\n"
     ]
    },
    {
     "name": "stderr",
     "output_type": "stream",
     "text": [
      "  DEPRECATION: Building 'fpdf' using the legacy setup.py bdist_wheel mechanism, which will be removed in a future version. pip 25.3 will enforce this behaviour change. A possible replacement is to use the standardized build interface by setting the `--use-pep517` option, (possibly combined with `--no-build-isolation`), or adding a `pyproject.toml` file to the source tree of 'fpdf'. Discussion can be found at https://github.com/pypa/pip/issues/6334\n"
     ]
    }
   ],
   "source": [
    "!pip install fpdf\n"
   ]
  },
  {
   "cell_type": "code",
   "execution_count": 26,
   "id": "239065ca-057d-4013-9ccc-9e7b73436449",
   "metadata": {},
   "outputs": [],
   "source": [
    "import fpdf"
   ]
  },
  {
   "cell_type": "code",
   "execution_count": null,
   "id": "38300056-6952-4ccb-be64-3e8add7e1260",
   "metadata": {},
   "outputs": [],
   "source": []
  }
 ],
 "metadata": {
  "kernelspec": {
   "display_name": "Python [conda env:llms]",
   "language": "python",
   "name": "conda-env-llms-py"
  },
  "language_info": {
   "codemirror_mode": {
    "name": "ipython",
    "version": 3
   },
   "file_extension": ".py",
   "mimetype": "text/x-python",
   "name": "python",
   "nbconvert_exporter": "python",
   "pygments_lexer": "ipython3",
   "version": "3.11.13"
  }
 },
 "nbformat": 4,
 "nbformat_minor": 5
}
