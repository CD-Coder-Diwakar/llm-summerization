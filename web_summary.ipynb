{
 "cells": [
  {
   "cell_type": "code",
   "execution_count": 3,
   "id": "753e82fd-dd47-4069-ac3d-1797f703ae76",
   "metadata": {},
   "outputs": [],
   "source": [
    "import os\n",
    "from bs4 import BeautifulSoup\n",
    "from dotenv import load_dotenv\n",
    "import requests\n",
    "from IPython.display import Markdown,display\n",
    "from openai import OpenAI\n"
   ]
  },
  {
   "cell_type": "code",
   "execution_count": 5,
   "id": "c68786db-9faa-404a-8866-f3cd6cd42d35",
   "metadata": {},
   "outputs": [],
   "source": [
    "openai=OpenAI(base_url='http://localhost:11434/v1', api_key='ollama')"
   ]
  },
  {
   "cell_type": "code",
   "execution_count": 7,
   "id": "6dc741b0-16cc-4e4f-b0d4-579698d96e26",
   "metadata": {},
   "outputs": [
    {
     "name": "stdout",
     "output_type": "stream",
     "text": [
      "Hi there! Welcome! I'm thrilled to be your first conversation partner as you learn about the Large Language Model (LLM) technology. It's great that you're taking the initiative to explore this new frontier.\n",
      "\n",
      "I'm here to help answer any questions, provide explanations, and engage in discussions on a wide range of topics. Don't hesitate to ask me anything, and I'll do my best to assist you.\n",
      "\n",
      "To get us started, how's your experience been so far with learning about LLMs? Are there specific aspects or applications that interests you the most?\n"
     ]
    }
   ],
   "source": [
    "message = \"Hello, Llama! This is my first ever message to you while learning llm! Hi!\"\n",
    "response = openai.chat.completions.create(model=\"llama3.2\", messages=[{\"role\":\"user\", \"content\":message}])\n",
    "print(response.choices[0].message.content)"
   ]
  },
  {
   "cell_type": "code",
   "execution_count": 8,
   "id": "c29ca5a3-59d5-4dd8-b3eb-65a8b2cf9dbe",
   "metadata": {},
   "outputs": [],
   "source": [
    "headers = {\n",
    " \"User-Agent\": \"Mozilla/5.0 (Windows NT 10.0; Win64; x64) AppleWebKit/537.36 (KHTML, like Gecko) Chrome/117.0.0.0 Safari/537.36\"\n",
    "}\n",
    "class Website:\n",
    "\n",
    "    def __init__(self, url):\n",
    "        \"\"\"\n",
    "        Create this Website object from the given url using the BeautifulSoup library\n",
    "        \"\"\"\n",
    "        self.url = url\n",
    "        response = requests.get(url, headers=headers)\n",
    "        soup = BeautifulSoup(response.content, 'html.parser')\n",
    "        self.title = soup.title.string if soup.title else \"No title found\"\n",
    "        for irrelevant in soup.body([\"script\", \"style\", \"img\", \"input\"]):\n",
    "            irrelevant.decompose()\n",
    "        self.text = soup.body.get_text(separator=\"\\n\", strip=True)"
   ]
  },
  {
   "cell_type": "code",
   "execution_count": 13,
   "id": "60f93261-fced-4eab-baae-31e3545e8289",
   "metadata": {},
   "outputs": [
    {
     "name": "stdout",
     "output_type": "stream",
     "text": [
      "portfolio\n",
      "MY Html work\n",
      "<<<<<<<<<< * >>>>>>>>>>\n",
      "1. party invite *\n",
      "link\n",
      "*\n",
      "2. favorite movie*\n",
      "link\n",
      "*\n",
      "# contact info *\n",
      "link\n",
      "*\n"
     ]
    }
   ],
   "source": [
    "website=Website('https://cd-coder-diwakar.github.io/new-work/')\n",
    "print(website.title)\n",
    "print(website.text)"
   ]
  },
  {
   "cell_type": "code",
   "execution_count": 14,
   "id": "942621b0-339a-43c2-a14c-dd3f8d664d95",
   "metadata": {},
   "outputs": [],
   "source": [
    "system_prompt = \"You are an assistant that analyzes the contents of a website \\\n",
    "and provides a short summary, ignoring text that might be navigation related. \\\n",
    "Respond in markdown.\""
   ]
  },
  {
   "cell_type": "code",
   "execution_count": 15,
   "id": "91659704-f9ea-4915-94e8-f22f2c15c33e",
   "metadata": {},
   "outputs": [],
   "source": [
    "def user_prompt_for(website):\n",
    "    user_prompt = f\"You are looking at a website titled {website.title}\"\n",
    "    user_prompt += \"\\nThe contents of this website is as follows; \\\n",
    "please provide a short summary of this website in markdown. \\\n",
    "If it includes news or announcements, then summarize these too.\\n\\n\"\n",
    "    user_prompt += website.text\n",
    "    return user_prompt"
   ]
  },
  {
   "cell_type": "code",
   "execution_count": 16,
   "id": "eee64ebd-78f3-4d3a-a339-a0e0080aca26",
   "metadata": {},
   "outputs": [
    {
     "name": "stdout",
     "output_type": "stream",
     "text": [
      "You are looking at a website titled portfolio\n",
      "The contents of this website is as follows; please provide a short summary of this website in markdown. If it includes news or announcements, then summarize these too.\n",
      "\n",
      "MY Html work\n",
      "<<<<<<<<<< * >>>>>>>>>>\n",
      "1. party invite *\n",
      "link\n",
      "*\n",
      "2. favorite movie*\n",
      "link\n",
      "*\n",
      "# contact info *\n",
      "link\n",
      "*\n"
     ]
    }
   ],
   "source": [
    "print(user_prompt_for(website))"
   ]
  },
  {
   "cell_type": "code",
   "execution_count": 17,
   "id": "7853a80d-7106-4768-bb42-870927cdff78",
   "metadata": {},
   "outputs": [],
   "source": [
    "def messages_for(website):\n",
    "    return [\n",
    "        {\"role\": \"system\", \"content\": system_prompt},\n",
    "        {\"role\": \"user\", \"content\": user_prompt_for(website)}\n",
    "    ]"
   ]
  },
  {
   "cell_type": "code",
   "execution_count": 18,
   "id": "a2c5ba4d-35c6-4346-83a0-82ef9063914c",
   "metadata": {},
   "outputs": [
    {
     "data": {
      "text/plain": [
       "[{'role': 'system',\n",
       "  'content': 'You are an assistant that analyzes the contents of a website and provides a short summary, ignoring text that might be navigation related. Respond in markdown.'},\n",
       " {'role': 'user',\n",
       "  'content': 'You are looking at a website titled portfolio\\nThe contents of this website is as follows; please provide a short summary of this website in markdown. If it includes news or announcements, then summarize these too.\\n\\nMY Html work\\n<<<<<<<<<< * >>>>>>>>>>\\n1. party invite *\\nlink\\n*\\n2. favorite movie*\\nlink\\n*\\n# contact info *\\nlink\\n*'}]"
      ]
     },
     "execution_count": 18,
     "metadata": {},
     "output_type": "execute_result"
    }
   ],
   "source": [
    "messages_for(website)"
   ]
  },
  {
   "cell_type": "code",
   "execution_count": 19,
   "id": "0832542b-1174-492a-9f5e-a0cd65912aff",
   "metadata": {},
   "outputs": [],
   "source": [
    "def summarize(url):\n",
    "    website = Website(url)\n",
    "    response = openai.chat.completions.create(\n",
    "        model = \"llama3.2\",\n",
    "        messages = messages_for(website)\n",
    "    )\n",
    "    return response.choices[0].message.content"
   ]
  },
  {
   "cell_type": "code",
   "execution_count": 23,
   "id": "c11ffed7-c34a-48d1-9108-d998bb9829e9",
   "metadata": {},
   "outputs": [],
   "source": [
    "summary=summarize('https://cd-coder-diwakar.github.io/new-work/')"
   ]
  },
  {
   "cell_type": "code",
   "execution_count": 24,
   "id": "d00acc7e-9bcd-4990-b3e3-f2de380eb04f",
   "metadata": {},
   "outputs": [
    {
     "data": {
      "text/markdown": [
       "**Website Summary**\n",
       "===============\n",
       "\n",
       "The `portfolio` website appears to be a personal showcase of the creator's HTML skills, featuring a brief portfolio section.\n",
       "\n",
       "### Content Highlights\n",
       "\n",
       "There are no notable news or announcements on this website.\n",
       "\n",
       "However, here is a general overview of what can be observed:\n",
       "\n",
       "*   The website has a minimalistic and clean design.\n",
       "*   It showcases two examples of HTML work: \"Party Invite\" and \"Favorite Movie\", with associated links to learn more about each project.\n",
       "*   There's also a separate section for contact information, linking back to... well, it looks like we'll have to look somewhere else to get that link."
      ],
      "text/plain": [
       "<IPython.core.display.Markdown object>"
      ]
     },
     "metadata": {},
     "output_type": "display_data"
    }
   ],
   "source": [
    "display(Markdown(summary))"
   ]
  },
  {
   "cell_type": "code",
   "execution_count": null,
   "id": "5f14f42a-4164-4ea9-be87-cca00d92a16b",
   "metadata": {},
   "outputs": [],
   "source": []
  }
 ],
 "metadata": {
  "kernelspec": {
   "display_name": "Python [conda env:llms]",
   "language": "python",
   "name": "conda-env-llms-py"
  },
  "language_info": {
   "codemirror_mode": {
    "name": "ipython",
    "version": 3
   },
   "file_extension": ".py",
   "mimetype": "text/x-python",
   "name": "python",
   "nbconvert_exporter": "python",
   "pygments_lexer": "ipython3",
   "version": "3.11.13"
  }
 },
 "nbformat": 4,
 "nbformat_minor": 5
}
